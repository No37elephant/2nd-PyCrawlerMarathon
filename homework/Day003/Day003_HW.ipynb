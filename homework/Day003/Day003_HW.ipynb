{
 "cells": [
  {
   "cell_type": "markdown",
   "metadata": {},
   "source": [
    "# Python 下載XML檔案與解析\n",
    "\n",
    "\n",
    "* 了解 xml 檔案格式與內容\n",
    "* 能夠利用套件存取 xml 格式的檔案\n"
   ]
  },
  {
   "cell_type": "markdown",
   "metadata": {},
   "source": [
    "## 作業目標\n",
    "\n",
    "* 比較一下範例檔案中的「File I/O」與「xmltodict」讀出來的內容有什麼差異\n",
    "\n",
    "* 根據範例檔案的結果：\n",
    "    1. 請問高雄市有多少地區有溫度資料？\n",
    "    2. 請取出每一個地區所記錄的第一個時間點跟溫度\n",
    "    3. 請取出第一個地區所記錄的每一個時間點跟溫度"
   ]
  },
  {
   "cell_type": "markdown",
   "metadata": {},
   "source": [
    "### 比較一下範例檔案中的「File I/O」與「xmltodict」讀出來的內容有什麼差異\n"
   ]
  },
  {
   "cell_type": "code",
   "execution_count": null,
   "metadata": {},
   "outputs": [],
   "source": [
    "'''\n",
    "Your Code\n",
    "'''"
   ]
  },
  {
   "cell_type": "markdown",
   "metadata": {},
   "source": [
    "### 根據範例檔案的結果：\n",
    "\n",
    "1. 請問高雄市有多少地區有溫度資料？\n",
    "2. 請取出每一個地區所記錄的第一個時間點跟溫度\n",
    "3. 請取出第一個地區所記錄的每一個時間點跟溫度"
   ]
  },
  {
   "cell_type": "code",
   "execution_count": 248,
   "metadata": {},
   "outputs": [],
   "source": [
    "import xmltodict\n",
    "import os, sys\n",
    "\n",
    "fh = open(\"./data/64_72hr_CH.xml\",\"r\")\n",
    "xml = fh.read()\n",
    "fh.close\n",
    "d = dict(xmltodict.parse(xml))"
   ]
  },
  {
   "cell_type": "code",
   "execution_count": 249,
   "metadata": {},
   "outputs": [
    {
     "name": "stdout",
     "output_type": "stream",
     "text": [
      "38 ['鹽埕區', '鼓山區', '左營區', '楠梓區', '三民區', '新興區', '前金區', '苓雅區', '前鎮區', '旗津區', '小港區', '鳳山區', '林園區', '大寮區', '大樹區', '大社區', '仁武區', '鳥松區', '岡山區', '橋頭區', '燕巢區', '田寮區', '阿蓮區', '路竹區', '湖內區', '茄萣區', '永安區', '彌陀區', '梓官區', '旗山區', '美濃區', '六龜區', '甲仙區', '杉林區', '內門區', '茂林區', '桃源區', '那瑪夏區']\n"
     ]
    }
   ],
   "source": [
    "locationnumbers = d['cwbopendata']['dataset']['locations']['location']\n",
    "n = 0\n",
    "Name = []\n",
    "for locationnumber in locationnumbers:\n",
    "    x = locationnumber['locationName']\n",
    "    Name.append(x)\n",
    "print(len(Name), Name)"
   ]
  },
  {
   "cell_type": "code",
   "execution_count": 268,
   "metadata": {},
   "outputs": [
    {
     "name": "stdout",
     "output_type": "stream",
     "text": [
      "鹽埕區\n",
      "2020-02-26T18:00:00+08:00 Temperature: 26 攝氏度\n",
      "\n",
      "鼓山區\n",
      "2020-02-26T18:00:00+08:00 Temperature: 26 攝氏度\n",
      "\n",
      "左營區\n",
      "2020-02-26T18:00:00+08:00 Temperature: 26 攝氏度\n",
      "\n",
      "楠梓區\n",
      "2020-02-26T18:00:00+08:00 Temperature: 27 攝氏度\n",
      "\n",
      "三民區\n",
      "2020-02-26T18:00:00+08:00 Temperature: 26 攝氏度\n",
      "\n",
      "新興區\n",
      "2020-02-26T18:00:00+08:00 Temperature: 26 攝氏度\n",
      "\n",
      "前金區\n",
      "2020-02-26T18:00:00+08:00 Temperature: 26 攝氏度\n",
      "\n",
      "苓雅區\n",
      "2020-02-26T18:00:00+08:00 Temperature: 26 攝氏度\n",
      "\n",
      "前鎮區\n",
      "2020-02-26T18:00:00+08:00 Temperature: 26 攝氏度\n",
      "\n",
      "旗津區\n",
      "2020-02-26T18:00:00+08:00 Temperature: 25 攝氏度\n",
      "\n",
      "小港區\n",
      "2020-02-26T18:00:00+08:00 Temperature: 26 攝氏度\n",
      "\n",
      "鳳山區\n",
      "2020-02-26T18:00:00+08:00 Temperature: 27 攝氏度\n",
      "\n",
      "林園區\n",
      "2020-02-26T18:00:00+08:00 Temperature: 27 攝氏度\n",
      "\n",
      "大寮區\n",
      "2020-02-26T18:00:00+08:00 Temperature: 27 攝氏度\n",
      "\n",
      "大樹區\n",
      "2020-02-26T18:00:00+08:00 Temperature: 28 攝氏度\n",
      "\n",
      "大社區\n",
      "2020-02-26T18:00:00+08:00 Temperature: 27 攝氏度\n",
      "\n",
      "仁武區\n",
      "2020-02-26T18:00:00+08:00 Temperature: 27 攝氏度\n",
      "\n",
      "鳥松區\n",
      "2020-02-26T18:00:00+08:00 Temperature: 27 攝氏度\n",
      "\n",
      "岡山區\n",
      "2020-02-26T18:00:00+08:00 Temperature: 26 攝氏度\n",
      "\n",
      "橋頭區\n",
      "2020-02-26T18:00:00+08:00 Temperature: 27 攝氏度\n",
      "\n",
      "燕巢區\n",
      "2020-02-26T18:00:00+08:00 Temperature: 26 攝氏度\n",
      "\n",
      "田寮區\n",
      "2020-02-26T18:00:00+08:00 Temperature: 25 攝氏度\n",
      "\n",
      "阿蓮區\n",
      "2020-02-26T18:00:00+08:00 Temperature: 26 攝氏度\n",
      "\n",
      "路竹區\n",
      "2020-02-26T18:00:00+08:00 Temperature: 26 攝氏度\n",
      "\n",
      "湖內區\n",
      "2020-02-26T18:00:00+08:00 Temperature: 25 攝氏度\n",
      "\n",
      "茄萣區\n",
      "2020-02-26T18:00:00+08:00 Temperature: 24 攝氏度\n",
      "\n",
      "永安區\n",
      "2020-02-26T18:00:00+08:00 Temperature: 24 攝氏度\n",
      "\n",
      "彌陀區\n",
      "2020-02-26T18:00:00+08:00 Temperature: 25 攝氏度\n",
      "\n",
      "梓官區\n",
      "2020-02-26T18:00:00+08:00 Temperature: 25 攝氏度\n",
      "\n",
      "旗山區\n",
      "2020-02-26T18:00:00+08:00 Temperature: 26 攝氏度\n",
      "\n",
      "美濃區\n",
      "2020-02-26T18:00:00+08:00 Temperature: 27 攝氏度\n",
      "\n",
      "六龜區\n",
      "2020-02-26T18:00:00+08:00 Temperature: 24 攝氏度\n",
      "\n",
      "甲仙區\n",
      "2020-02-26T18:00:00+08:00 Temperature: 24 攝氏度\n",
      "\n",
      "杉林區\n",
      "2020-02-26T18:00:00+08:00 Temperature: 26 攝氏度\n",
      "\n",
      "內門區\n",
      "2020-02-26T18:00:00+08:00 Temperature: 26 攝氏度\n",
      "\n",
      "茂林區\n",
      "2020-02-26T18:00:00+08:00 Temperature: 24 攝氏度\n",
      "\n",
      "桃源區\n",
      "2020-02-26T18:00:00+08:00 Temperature: 21 攝氏度\n",
      "\n",
      "那瑪夏區\n",
      "2020-02-26T18:00:00+08:00 Temperature: 19 攝氏度\n",
      "\n"
     ]
    }
   ],
   "source": [
    "# 2. 請取出每一個地區所記錄的第一個時間點跟溫度\n",
    "\n",
    "for locationnumber in locationnumbers:\n",
    "    print(locationnumber['locationName'])\n",
    "    n = 0\n",
    "    for info in locationnumber['weatherElement'][0]['time']:\n",
    "        if n == 0:\n",
    "            print(info['dataTime'], \"Temperature:\", info['elementValue']['value'], \"攝氏度\\n\")\n",
    "            n = n + 1"
   ]
  },
  {
   "cell_type": "code",
   "execution_count": 267,
   "metadata": {},
   "outputs": [
    {
     "name": "stdout",
     "output_type": "stream",
     "text": [
      "鹽埕區\n",
      "Time: 2020-02-26T18:00:00+08:00 & Temperature: 26 °C\n",
      "Time: 2020-02-26T21:00:00+08:00 & Temperature: 24 °C\n",
      "Time: 2020-02-27T00:00:00+08:00 & Temperature: 22 °C\n",
      "Time: 2020-02-27T03:00:00+08:00 & Temperature: 21 °C\n",
      "Time: 2020-02-27T06:00:00+08:00 & Temperature: 21 °C\n",
      "Time: 2020-02-27T09:00:00+08:00 & Temperature: 22 °C\n",
      "Time: 2020-02-27T12:00:00+08:00 & Temperature: 26 °C\n",
      "Time: 2020-02-27T15:00:00+08:00 & Temperature: 26 °C\n",
      "Time: 2020-02-27T18:00:00+08:00 & Temperature: 25 °C\n",
      "Time: 2020-02-27T21:00:00+08:00 & Temperature: 23 °C\n",
      "Time: 2020-02-28T00:00:00+08:00 & Temperature: 22 °C\n",
      "Time: 2020-02-28T03:00:00+08:00 & Temperature: 21 °C\n",
      "Time: 2020-02-28T06:00:00+08:00 & Temperature: 21 °C\n",
      "Time: 2020-02-28T09:00:00+08:00 & Temperature: 22 °C\n",
      "Time: 2020-02-28T12:00:00+08:00 & Temperature: 26 °C\n",
      "Time: 2020-02-28T15:00:00+08:00 & Temperature: 26 °C\n",
      "Time: 2020-02-28T18:00:00+08:00 & Temperature: 25 °C\n",
      "Time: 2020-02-28T21:00:00+08:00 & Temperature: 24 °C\n",
      "Time: 2020-02-29T00:00:00+08:00 & Temperature: 23 °C\n",
      "Time: 2020-02-29T03:00:00+08:00 & Temperature: 22 °C\n",
      "Time: 2020-02-29T06:00:00+08:00 & Temperature: 22 °C\n",
      "Time: 2020-02-29T09:00:00+08:00 & Temperature: 24 °C\n",
      "Time: 2020-02-29T12:00:00+08:00 & Temperature: 28 °C\n",
      "Time: 2020-02-29T15:00:00+08:00 & Temperature: 29 °C\n"
     ]
    }
   ],
   "source": [
    "# 3. 請取出第一個地區所記錄的每一個時間點跟溫度\n",
    "print(locationnumbers[0]['locationName'])\n",
    "for locationnumber in locationnumbers[0]['weatherElement']:\n",
    "    if locationnumber['description'] == \"溫度\":\n",
    "        for info in locationnumber['time']:\n",
    "            print(\"Time:\",info['dataTime'],\"& Temperature:\",info['elementValue']['value'],\"°C\")"
   ]
  },
  {
   "cell_type": "code",
   "execution_count": 181,
   "metadata": {},
   "outputs": [
    {
     "data": {
      "text/plain": [
       "collections.OrderedDict"
      ]
     },
     "execution_count": 181,
     "metadata": {},
     "output_type": "execute_result"
    }
   ],
   "source": [
    "type(locationnumbers[0])"
   ]
  },
  {
   "cell_type": "code",
   "execution_count": null,
   "metadata": {},
   "outputs": [],
   "source": [
    " for info in locationnumber['time'][0]:\n",
    "        print(info['dataTime'], info['elementValue']['value'])\n",
    "        n = n + 1    \n",
    "    print(n)"
   ]
  }
 ],
 "metadata": {
  "kernelspec": {
   "display_name": "Python 3",
   "language": "python",
   "name": "python3"
  },
  "language_info": {
   "codemirror_mode": {
    "name": "ipython",
    "version": 3
   },
   "file_extension": ".py",
   "mimetype": "text/x-python",
   "name": "python",
   "nbconvert_exporter": "python",
   "pygments_lexer": "ipython3",
   "version": "3.7.3"
  }
 },
 "nbformat": 4,
 "nbformat_minor": 2
}
